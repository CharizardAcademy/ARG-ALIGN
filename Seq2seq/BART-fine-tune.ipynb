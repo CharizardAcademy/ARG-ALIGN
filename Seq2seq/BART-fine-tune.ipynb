{
 "cells": [
  {
   "cell_type": "code",
   "execution_count": null,
   "id": "88a3f113-8a79-43e4-b459-3ae60cc531f5",
   "metadata": {},
   "outputs": [],
   "source": [
    "from transformers import BartTokenizer, BartForConditionalGeneration\n",
    "from torch.utils.data import DataLoader\n",
    "from transformers import AdamW, get_linear_schedule_with_warmup\n",
    "\n",
    "from tqdm import tqdm\n",
    "import numpy as np\n",
    "import torch\n",
    "import time\n",
    "import datetime\n",
    "import sys\n",
    "import json"
   ]
  },
  {
   "cell_type": "code",
   "execution_count": null,
   "id": "738490fc-a256-405c-8365-fb40561faa13",
   "metadata": {},
   "outputs": [],
   "source": [
    "model = BartForConditionalGeneration.from_pretrained('facebook/bart-large')\n",
    "tokenizer = BartTokenizer.from_pretrained('facebook/bart-large', additional_special_tokens=[\"<sentencemissing>\"])\n",
    "\n",
    "device = torch.device(\"cuda:0\" if torch.cuda.is_available() else \"cpu\")\n",
    "model = model.to(device)"
   ]
  },
  {
   "cell_type": "code",
   "execution_count": null,
   "id": "819ddda7-7af5-4c17-8ff3-43577e4d1f6d",
   "metadata": {},
   "outputs": [],
   "source": [
    "model.resize_token_embeddings(len(tokenizer))"
   ]
  },
  {
   "cell_type": "code",
   "execution_count": null,
   "id": "9d1a38f8-81b2-428b-9037-734c76aae2ea",
   "metadata": {},
   "outputs": [],
   "source": [
    "def concatenate_premise(data):\n",
    "    concat_premise = \"\"\n",
    "    for idx, label in enumerate(data['label']):\n",
    "        if label:\n",
    "            concat_premise += data['premise'][idx] + \" \"\n",
    "        else:\n",
    "            concat_premise += \"<sentencemissing>\" + \" \"\n",
    "    return concat_premise.rstrip()"
   ]
  },
  {
   "cell_type": "code",
   "execution_count": null,
   "id": "9ee4ab1a-fa60-4c7e-a2fa-79c1fe2d6aa8",
   "metadata": {},
   "outputs": [],
   "source": [
    "train_data = []"
   ]
  },
  {
   "cell_type": "code",
   "execution_count": null,
   "id": "77054cd1-c97f-42f8-8d34-d2630ea3681e",
   "metadata": {},
   "outputs": [],
   "source": [
    "with open('../dataset/PMCOA-Feb23-2022-train-mask.jsonl', 'r') as f:\n",
    "    for line in tqdm(f):\n",
    "        data = json.loads(line)\n",
    "        premise = \" \".join( [data[\"premise\"][idx] for idx in np.argwhere( data[\"label\"] )[:,0]])\n",
    "        conclusion = \" \".join(data['conclusion'])\n",
    "        train_data.append([premise, conclusion])"
   ]
  },
  {
   "cell_type": "code",
   "execution_count": null,
   "id": "2405d400-1727-484a-ae84-4b5cb3871c77",
   "metadata": {},
   "outputs": [],
   "source": [
    "dev_data = []"
   ]
  },
  {
   "cell_type": "code",
   "execution_count": null,
   "id": "fd3a62bd-28e7-4ecc-9905-5364d8970d4c",
   "metadata": {},
   "outputs": [],
   "source": [
    "with open('../dataset/PMCOA-Feb23-2022-dev-mask.jsonl', 'r') as f:\n",
    "    for line in tqdm(f):\n",
    "        data = json.loads(line)\n",
    "        premise = \" \".join( [data[\"premise\"][idx] for idx in np.argwhere( data[\"label\"] )[:,0]])\n",
    "        conclusion = \" \".join(data['conclusion'])\n",
    "        dev_data.append([premise, conclusion])"
   ]
  },
  {
   "cell_type": "code",
   "execution_count": null,
   "id": "c0894fd7-c44f-46ff-bdfa-4487601bc2c4",
   "metadata": {},
   "outputs": [],
   "source": [
    "batch_size = 2\n",
    "train_dataloader = DataLoader(train_data, batch_size=batch_size, shuffle=True)\n",
    "dev_dataloader = DataLoader(dev_data, batch_size=batch_size, shuffle=True)"
   ]
  },
  {
   "cell_type": "code",
   "execution_count": null,
   "id": "0882a2b4-54b3-42c0-b19a-cb208020c44a",
   "metadata": {},
   "outputs": [],
   "source": [
    "num_epochs = 5\n",
    "learning_rate = 1e-5\n",
    "warmup_steps = int(0.1*(len(train_dataloader) * num_epochs / batch_size))\n",
    "epsilon = 1e-8\n",
    "sample_every = 1e4\n",
    "\n",
    "optimizer = AdamW(model.parameters(),\n",
    "                  lr=learning_rate,\n",
    "                  eps=epsilon\n",
    "                 )"
   ]
  },
  {
   "cell_type": "code",
   "execution_count": null,
   "id": "58e41026-5914-41e5-a51b-31771a00a8d0",
   "metadata": {},
   "outputs": [],
   "source": [
    "total_steps = len(train_dataloader) * num_epochs\n",
    "scheduler = get_linear_schedule_with_warmup(optimizer, \n",
    "                                            num_warmup_steps=warmup_steps, \n",
    "                                            num_training_steps=total_steps)"
   ]
  },
  {
   "cell_type": "code",
   "execution_count": null,
   "id": "bbf3f8d4-b454-423c-b02a-990994248547",
   "metadata": {},
   "outputs": [],
   "source": [
    "def format_time(elapsed):\n",
    "    return str(datetime.timedelta(seconds=int(round((elapsed)))))"
   ]
  },
  {
   "cell_type": "code",
   "execution_count": null,
   "id": "b488c323-4dca-4488-8e5b-a478a1355de4",
   "metadata": {},
   "outputs": [],
   "source": [
    "model.train()\n",
    "total_t0 = time.time()\n",
    "device = \"cuda:0\"\n",
    "\n",
    "for epoch in range(num_epochs):\n",
    "    total_train_loss = 0\n",
    "    t0 = time.time()\n",
    "\n",
    "    print('======== Epoch {:} / {:} ========'.format(epoch + 1, num_epochs))\n",
    "    print('Training...')\n",
    "    for step, batch in enumerate(train_dataloader):\n",
    "        inputs = tokenizer.batch_encode_plus(batch[0], padding=True, truncation=True, return_tensors='pt')\n",
    "        targets = tokenizer.batch_encode_plus(batch[1], padding=True, truncation=True, return_tensors='pt')\n",
    "        \n",
    "        input_ids = inputs['input_ids'].to(device)\n",
    "        attention_mask = inputs['attention_mask'].to(device)\n",
    "        target_ids = targets['input_ids'].to(device)\n",
    "        target_attention_mask = targets['attention_mask'].to(device)\n",
    "        \n",
    "        outputs = model(input_ids=input_ids, attention_mask=attention_mask,\n",
    "                        labels=target_ids, decoder_attention_mask=target_attention_mask)\n",
    "                \n",
    "        loss = outputs[0].mean()\n",
    "\n",
    "        batch_loss = loss.item()\n",
    "        total_train_loss += batch_loss\n",
    "        \n",
    "        optimizer.zero_grad()\n",
    "        loss.backward()\n",
    "        optimizer.step()\n",
    "        scheduler.step()\n",
    "        \n",
    "    avg_train_loss = total_train_loss / len(train_dataloader)      \n",
    "    training_time = format_time(time.time() - t0)\n",
    "\n",
    "    print(\"  Average training loss: {0:.2f}\".format(avg_train_loss))\n",
    "    print(\"  Training epoch took: {:}\".format(training_time))\n",
    "    \n",
    "    model.eval()  # Switch to evaluation mode\n",
    "    \n",
    "    total_eval_loss = 0\n",
    "    eval_steps = 0\n",
    "\n",
    "    for batch in dev_dataloader:\n",
    "        inputs = tokenizer.batch_encode_plus(batch[0], padding=True, truncation=True, return_tensors='pt')\n",
    "        targets = tokenizer.batch_encode_plus(batch[1], padding=True, truncation=True, return_tensors='pt')\n",
    "        \n",
    "        input_ids = inputs['input_ids'].to(device)\n",
    "        attention_mask = inputs['attention_mask'].to(device)\n",
    "        target_ids = targets['input_ids'].to(device)\n",
    "        target_attention_mask = targets['attention_mask'].to(device)\n",
    "        \n",
    "        with torch.no_grad():\n",
    "            outputs = model(input_ids=input_ids, attention_mask=attention_mask,\n",
    "                            labels=target_ids, decoder_attention_mask=target_attention_mask)\n",
    "            \n",
    "            loss = outputs[0].mean()\n",
    "\n",
    "        batch_loss = loss.item()\n",
    "        total_eval_loss += batch_loss\n",
    "        eval_steps += 1\n",
    "\n",
    "    avg_eval_loss = total_eval_loss / eval_steps\n",
    "\n",
    "    print(\"  Average evaluation loss: {0:.2f}\".format(avg_eval_loss))\n",
    "\n",
    "    output_dir = '../fine-tuned-models/Bart-large/nppl/' + str(epoch+1) + '-epoch/'\n",
    "    model_to_save = model.module if hasattr(model, 'module') else model  # Take care of distributed/parallel training\n",
    "    model_to_save.save_pretrained(output_dir)\n",
    "    tokenizer.save_pretrained(output_dir)\n"
   ]
  },
  {
   "cell_type": "markdown",
   "id": "62872118-3d5a-4491-9648-72dcc5fa3981",
   "metadata": {},
   "source": [
    "#### Inference"
   ]
  },
  {
   "cell_type": "code",
   "execution_count": null,
   "id": "db548ea4-2499-4016-b688-31e2692e9b25",
   "metadata": {},
   "outputs": [],
   "source": [
    "def concatenate_premise(data):\n",
    "    concat_premise = \"\"\n",
    "    for idx, label in enumerate(data['label']):\n",
    "        if label:\n",
    "            concat_premise += data['premise'][idx] + \" \"\n",
    "        else:\n",
    "            concat_premise += \"<sentencemissing>\" + \" \"\n",
    "    return concat_premise.rstrip()"
   ]
  },
  {
   "cell_type": "code",
   "execution_count": null,
   "id": "2d32f68b-54c6-4409-a4b2-d5c951cc7027",
   "metadata": {},
   "outputs": [],
   "source": [
    "test_data = []"
   ]
  },
  {
   "cell_type": "code",
   "execution_count": null,
   "id": "fc32ba39-b46b-4e04-a621-7c3a91bac198",
   "metadata": {},
   "outputs": [],
   "source": [
    "with open('../dataset/PMCOA-Feb23-2022-test-mask-nppl.jsonl', 'r') as f:\n",
    "    \n",
    "    for line in tqdm(f):\n",
    "        data = json.loads(line)\n",
    "        premise = \" \".join([data['premise'][idx] for idx in np.argwhere(data['label']) [:, 0]])\n",
    "        conclusion = \" \".join(data['conclusion'])\n",
    "        id = data['pubmed_id']\n",
    "        test_data.append([premise, conclusion, id])"
   ]
  },
  {
   "cell_type": "code",
   "execution_count": null,
   "id": "03154adb-0afa-402f-b5a3-f55b19244733",
   "metadata": {},
   "outputs": [],
   "source": [
    "batch_size = 10\n",
    "test_dataloader = DataLoader(test_data, batch_size=batch_size, shuffle=False)"
   ]
  },
  {
   "cell_type": "code",
   "execution_count": null,
   "id": "97621f70-71d7-4e4c-ad36-baef791fadd3",
   "metadata": {},
   "outputs": [],
   "source": [
    "import evaluate\n",
    "\n",
    "rouge = evaluate.load(\"rouge\")"
   ]
  },
  {
   "cell_type": "code",
   "execution_count": null,
   "id": "dafc9301-010d-4cf6-bcaf-f2b63bd4db85",
   "metadata": {},
   "outputs": [],
   "source": [
    "import os \n",
    "import re\n",
    "\n",
    "model_dirs = sorted(os.listdir('../fine-tuned-models/Bart-large/nppl/'), key=lambda x: int(re.search(r'\\d+', x).group()))"
   ]
  },
  {
   "cell_type": "code",
   "execution_count": null,
   "id": "11ee5322-daac-4da0-a751-e40d789bcfab",
   "metadata": {},
   "outputs": [],
   "source": [
    "model_dirs = ['1-epoch', '2-epoch', '3-epoch', '4-epoch', '5-epoch']"
   ]
  },
  {
   "cell_type": "code",
   "execution_count": null,
   "id": "ea9ed470-ea57-46f3-8661-0dd54a66da95",
   "metadata": {},
   "outputs": [],
   "source": [
    "for model_dir in tqdm(model_dirs):\n",
    "    \n",
    "    print('======== Epoch {:} ========'.format(model_dir.split(\"-\")[0]))\n",
    "\n",
    "    model = BartForConditionalGeneration.from_pretrained('../fine-tuned-models/Bart-large/nppl/' + model_dir + '/').to('cuda:0')\n",
    "    tokenizer = BartTokenizer.from_pretrained('../fine-tuned-models/Bart-large/nppl/' + model_dir + '/')\n",
    "    \n",
    "    print('Model loaded!')\n",
    "    model.eval()\n",
    "    device = 'cuda:0'\n",
    "    predictions = []\n",
    "    ground_truth = []\n",
    "\n",
    "    ids = []\n",
    "\n",
    "    for step, batch in enumerate(test_dataloader):\n",
    "\n",
    "        inputs = tokenizer.batch_encode_plus(batch[0], padding=True, truncation=True, return_tensors='pt')\n",
    "        \n",
    "        input_ids = inputs['input_ids'].to(device)\n",
    "        attention_mask = inputs['attention_mask'].to(device)\n",
    "        \n",
    "        with torch.no_grad():\n",
    "\n",
    "            generated_ids = model.generate(\n",
    "                input_ids=input_ids,\n",
    "                attention_mask=attention_mask,\n",
    "                num_beams=1,  \n",
    "                max_length=128,  \n",
    "                early_stopping=True  \n",
    "            )\n",
    "            \n",
    "            hyp_con = tokenizer.batch_decode(generated_ids, skip_special_tokens=True)\n",
    "            ref_con = list(batch[1])\n",
    "            predictions.append([con for con in hyp_con])\n",
    "            ground_truth.append([con for con in ref_con])\n",
    "            ref_ids = list(batch[2])\n",
    "            ids.append([id for id in ref_ids])\n",
    "        \n",
    "    predictions = [pred for sl in predictions for pred in sl]\n",
    "    references = [ref for sl in ground_truth for ref in sl]\n",
    "    reference_ids = [id for sl in ids for id in sl]\n",
    "\n",
    "    assert len(predictions) == len(references)\n",
    "    \n",
    "    score = rouge.compute(predictions=predictions, references=references)\n",
    "    \n",
    "    print(f\"Rouge: {score}\")\n"
   ]
  },
  {
   "cell_type": "code",
   "execution_count": null,
   "id": "804f90a5-cafc-4e10-856f-5b75dfd7656b",
   "metadata": {},
   "outputs": [],
   "source": []
  },
  {
   "cell_type": "code",
   "execution_count": null,
   "id": "78f9e601-d7e9-40c8-b914-0cbf362fe1bf",
   "metadata": {},
   "outputs": [],
   "source": []
  }
 ],
 "metadata": {
  "kernelspec": {
   "display_name": "Python 3 (ipykernel)",
   "language": "python",
   "name": "python3"
  },
  "language_info": {
   "codemirror_mode": {
    "name": "ipython",
    "version": 3
   },
   "file_extension": ".py",
   "mimetype": "text/x-python",
   "name": "python",
   "nbconvert_exporter": "python",
   "pygments_lexer": "ipython3",
   "version": "3.11.3"
  }
 },
 "nbformat": 4,
 "nbformat_minor": 5
}
