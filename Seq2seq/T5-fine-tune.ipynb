{
 "cells": [
  {
   "cell_type": "code",
   "execution_count": null,
   "id": "988c45c8-c284-4bfa-b900-665e4fdf2779",
   "metadata": {},
   "outputs": [],
   "source": [
    "from transformers import T5Tokenizer, T5ForConditionalGeneration\n",
    "from torch.utils.data import DataLoader\n",
    "from transformers import AdamW, get_linear_schedule_with_warmup\n",
    "\n",
    "from tqdm import tqdm\n",
    "import numpy as np\n",
    "import torch\n",
    "import json\n",
    "import time\n",
    "import datetime\n",
    "import sys"
   ]
  },
  {
   "cell_type": "code",
   "execution_count": null,
   "id": "f2c16f11-de3a-487e-8978-44bcb29b67f6",
   "metadata": {},
   "outputs": [],
   "source": [
    "model = T5ForConditionalGeneration.from_pretrained('t5-large')\n",
    "tokenizer = T5Tokenizer.from_pretrained('t5-large')\n",
    "tokenizer.add_tokens(['sentencemissing'])\n",
    "\n",
    "device = torch.device(\"cuda\" if torch.cuda.is_available() else \"cpu\")\n",
    "model = model.to(device)"
   ]
  },
  {
   "cell_type": "code",
   "execution_count": null,
   "id": "6b28bd4c-250e-4627-8b22-0729d6ad826e",
   "metadata": {},
   "outputs": [],
   "source": [
    "model.resize_token_embeddings(len(tokenizer))"
   ]
  },
  {
   "cell_type": "code",
   "execution_count": null,
   "id": "9d31ab7b-5068-4739-bf9e-9f6c625e022e",
   "metadata": {},
   "outputs": [],
   "source": [
    "def concatenate_premise(data):\n",
    "    concat_premise = \"summarize: \"\n",
    "    for idx, label in enumerate(data['label']):\n",
    "        if label:\n",
    "            concat_premise += data['premise'][idx] + \" \"\n",
    "        else:\n",
    "            concat_premise += \"<sentencemissing>\" + \" \"\n",
    "    return concat_premise.rstrip()"
   ]
  },
  {
   "cell_type": "code",
   "execution_count": null,
   "id": "e3f04d3b-7fa8-4342-9d69-8239e45527ff",
   "metadata": {},
   "outputs": [],
   "source": [
    "dev_data = []"
   ]
  },
  {
   "cell_type": "code",
   "execution_count": null,
   "id": "d289a5fd-1210-49b4-a600-8bb7f9afe511",
   "metadata": {},
   "outputs": [],
   "source": [
    "with open('../dataset/PMCOA-Feb23-2022-dev-mask.jsonl', 'r') as f:\n",
    "    for line in tqdm(f):\n",
    "        data = json.loads(line)\n",
    "        # premise = concatenate_premise(data)\n",
    "        premise = \"summarize: \" + \" \".join(data['premise'][:5])\n",
    "        conclusion = \" \".join(data['conclusion'])\n",
    "        dev_data.append([premise, conclusion])"
   ]
  },
  {
   "cell_type": "code",
   "execution_count": null,
   "id": "65a8e2e3-130e-44cd-8d6d-2507e6d4eccc",
   "metadata": {},
   "outputs": [],
   "source": [
    "batch_size = 2\n",
    "train_dataloader = DataLoader(train_data, batch_size=batch_size, shuffle=True)\n",
    "dev_dataloader = DataLoader(dev_data, batch_size=batch_size, shuffle=True)"
   ]
  },
  {
   "cell_type": "code",
   "execution_count": null,
   "id": "14e5d59d-36a5-464e-ac36-020f716c8906",
   "metadata": {},
   "outputs": [],
   "source": [
    "num_epochs = 5\n",
    "learning_rate = 1e-5\n",
    "warmup_steps = int(0.1*(len(train_dataloader) * num_epochs / batch_size))\n",
    "epsilon = 1e-8\n",
    "sample_every = 1e4\n",
    "\n",
    "optimizer = AdamW(model.parameters(),\n",
    "                  lr=learning_rate,\n",
    "                  eps=epsilon\n",
    "                 )"
   ]
  },
  {
   "cell_type": "code",
   "execution_count": null,
   "id": "1e718af0-764f-4868-966d-61348fcb3909",
   "metadata": {},
   "outputs": [],
   "source": [
    "total_steps = len(train_dataloader) * num_epochs\n",
    "scheduler = get_linear_schedule_with_warmup(optimizer, \n",
    "                                            num_warmup_steps=warmup_steps, \n",
    "                                            num_training_steps=total_steps)"
   ]
  },
  {
   "cell_type": "code",
   "execution_count": null,
   "id": "ed2d1f76-867b-43ad-a5dd-e0173b831247",
   "metadata": {},
   "outputs": [],
   "source": [
    "def format_time(elapsed):\n",
    "    return str(datetime.timedelta(seconds=int(round((elapsed)))))"
   ]
  },
  {
   "cell_type": "code",
   "execution_count": null,
   "id": "6b435864-389b-4133-a3c5-2e8e24d6f658",
   "metadata": {},
   "outputs": [],
   "source": [
    "model.train()\n",
    "total_t0 = time.time()\n",
    "device = \"cuda:0\"\n",
    "\n",
    "for epoch in range(num_epochs):\n",
    "    total_train_loss = 0\n",
    "    t0 = time.time()\n",
    "\n",
    "    print('======== Epoch {:} / {:} ========'.format(epoch + 1, num_epochs))\n",
    "    print('Training...')\n",
    "    for step, batch in enumerate(train_dataloader):\n",
    "        inputs = tokenizer.batch_encode_plus(batch[0], padding=True, truncation=True, return_tensors='pt')\n",
    "        targets = tokenizer.batch_encode_plus(batch[1], padding=True, truncation=True, return_tensors='pt')\n",
    "        \n",
    "        input_ids = inputs['input_ids'].to(device)\n",
    "        attention_mask = inputs['attention_mask'].to(device)\n",
    "        target_ids = targets['input_ids'].to(device)\n",
    "        target_attention_mask = targets['attention_mask'].to(device)\n",
    "        \n",
    "        outputs = model(input_ids=input_ids, attention_mask=attention_mask,\n",
    "                        labels=target_ids, decoder_attention_mask=target_attention_mask)\n",
    "                \n",
    "        loss = outputs[0].mean()\n",
    "\n",
    "        batch_loss = loss.item()\n",
    "        total_train_loss += batch_loss\n",
    "        \n",
    "        optimizer.zero_grad()\n",
    "        loss.backward()\n",
    "        optimizer.step()\n",
    "        scheduler.step()\n",
    "        \n",
    "    avg_train_loss = total_train_loss / len(train_dataloader)      \n",
    "    training_time = format_time(time.time() - t0)\n",
    "\n",
    "    print(\"  Average training loss: {0:.2f}\".format(avg_train_loss))\n",
    "    print(\"  Training epoch took: {:}\".format(training_time))\n",
    "    \n",
    "    model.eval()  # Switch to evaluation mode\n",
    "    \n",
    "    total_eval_loss = 0\n",
    "    eval_steps = 0\n",
    "\n",
    "    for batch in dev_dataloader:\n",
    "        inputs = tokenizer.batch_encode_plus(batch[0], padding=True, truncation=True, return_tensors='pt')\n",
    "        targets = tokenizer.batch_encode_plus(batch[1], padding=True, truncation=True, return_tensors='pt')\n",
    "        \n",
    "        input_ids = inputs['input_ids'].to(device)\n",
    "        attention_mask = inputs['attention_mask'].to(device)\n",
    "        target_ids = targets['input_ids'].to(device)\n",
    "        target_attention_mask = targets['attention_mask'].to(device)\n",
    "        \n",
    "        with torch.no_grad():\n",
    "            outputs = model(input_ids=input_ids, attention_mask=attention_mask,\n",
    "                            labels=target_ids, decoder_attention_mask=target_attention_mask)\n",
    "            \n",
    "            loss = outputs[0].mean()\n",
    "\n",
    "        batch_loss = loss.item()\n",
    "        total_eval_loss += batch_loss\n",
    "        eval_steps += 1\n",
    "\n",
    "    avg_eval_loss = total_eval_loss / eval_steps\n",
    "\n",
    "    print(\"  Average evaluation loss: {0:.2f}\".format(avg_eval_loss))\n",
    "\n",
    "    output_dir = '../fine-tuned-models/T5-large/five/' + str(epoch+1) + '-epoch/'\n",
    "    model_to_save = model.module if hasattr(model, 'module') else model  # Take care of distributed/parallel training\n",
    "    model_to_save.save_pretrained(output_dir)\n",
    "    tokenizer.save_pretrained(output_dir)\n"
   ]
  },
  {
   "cell_type": "markdown",
   "id": "a54f8c93-e01a-4c52-81ee-6a8a816a81e3",
   "metadata": {},
   "source": [
    "#### Inference"
   ]
  },
  {
   "cell_type": "code",
   "execution_count": null,
   "id": "45c72f8d-04f0-4511-8ae0-c94d28b05907",
   "metadata": {},
   "outputs": [],
   "source": [
    "def concatenate_premise(data):\n",
    "    concat_premise = \"summarize: \"\n",
    "    for idx, label in enumerate(data['label']):\n",
    "        if label:\n",
    "            concat_premise += data['premise'][idx] + \" \"\n",
    "        else:\n",
    "            concat_premise += \"<sentencemissing>\" + \" \"\n",
    "    return concat_premise.rstrip()"
   ]
  },
  {
   "cell_type": "code",
   "execution_count": null,
   "id": "d9d203db-fbc6-467e-b57c-27ae14d919a4",
   "metadata": {},
   "outputs": [],
   "source": [
    "test_data = []"
   ]
  },
  {
   "cell_type": "code",
   "execution_count": null,
   "id": "97740802-618c-49c9-894c-906677faaf16",
   "metadata": {},
   "outputs": [],
   "source": [
    "with open('../dataset/PMCOA-Feb23-2022-test-mask-nppl.jsonl', 'r') as f:\n",
    "    \n",
    "    for line in tqdm(f):\n",
    "        data = json.loads(line)\n",
    "        premise = \"summarize: \" + \" \".join([data['premise'][idx] for idx in np.argwhere(data['label']) [:, 0]])\n",
    "        conclusion = \" \".join(data['conclusion'])\n",
    "        test_data.append([premise, conclusion])"
   ]
  },
  {
   "cell_type": "code",
   "execution_count": null,
   "id": "2b57f03b-1870-4cab-8e64-67cb23c6c635",
   "metadata": {},
   "outputs": [],
   "source": [
    "batch_size = 10\n",
    "test_dataloader = DataLoader(test_data, batch_size=batch_size, shuffle=True)"
   ]
  },
  {
   "cell_type": "code",
   "execution_count": null,
   "id": "c28fa580-9469-4595-9acd-1572261f31e8",
   "metadata": {},
   "outputs": [],
   "source": [
    "import evaluate\n",
    "\n",
    "rouge = evaluate.load(\"rouge\")"
   ]
  },
  {
   "cell_type": "code",
   "execution_count": null,
   "id": "59e756ef-82f4-4b67-817b-f033f0cb0f94",
   "metadata": {},
   "outputs": [],
   "source": [
    "import os \n",
    "import re\n",
    "\n",
    "#model_dirs = sorted(os.listdir('../fine-tuned-models/T5-large/mask/'), key=lambda x: int(re.search(r'\\d+', x).group()))\n",
    "model_dirs = ['1-epoch', '2-epoch', '3-epoch', '4-epoch', '5-epoch']"
   ]
  },
  {
   "cell_type": "code",
   "execution_count": null,
   "id": "ab16daad-675f-4bb8-8184-8d421d35043d",
   "metadata": {},
   "outputs": [],
   "source": [
    "for model_dir in tqdm(model_dirs):\n",
    "    \n",
    "    print('======== Epoch {:} ========'.format(model_dir.split(\"-\")[0]))\n",
    "\n",
    "    model = T5ForConditionalGeneration.from_pretrained('../fine-tuned-models/T5-large/five/' + model_dir + '/').to('cuda:0')\n",
    "    tokenizer = T5Tokenizer.from_pretrained('../fine-tuned-models/T5-large/five/' + model_dir + '/')\n",
    "    \n",
    "    print('Model loaded!')\n",
    "    model.eval()\n",
    "    device = 'cuda:0'\n",
    "    predictions = []\n",
    "    ground_truth = []\n",
    "\n",
    "    for step, batch in enumerate(test_dataloader):\n",
    "\n",
    "        inputs = tokenizer.batch_encode_plus(batch[0], padding=True, truncation=True, return_tensors='pt')\n",
    "        \n",
    "        input_ids = inputs['input_ids'].to(device)\n",
    "        attention_mask = inputs['attention_mask'].to(device)\n",
    "\n",
    "        generated_ids = model.generate(\n",
    "            input_ids=input_ids,\n",
    "            attention_mask=attention_mask,\n",
    "            num_beams=4,  \n",
    "            max_length=128,  \n",
    "            early_stopping=True  \n",
    "        )\n",
    "        \n",
    "        hyp_con = tokenizer.batch_decode(generated_ids, skip_special_tokens=True)\n",
    "        ref_con = list(batch[1])\n",
    "        predictions.append([con for con in hyp_con])\n",
    "        ground_truth.append([con for con in ref_con])\n",
    "        \n",
    "    predictions = [pred for sl in predictions for pred in sl]\n",
    "    references = [ref for sl in ground_truth for ref in sl]\n",
    "    assert len(predictions) == len(references)\n",
    "    \n",
    "    score = rouge.compute(predictions=predictions, references=references)\n",
    "    \n",
    "    print(f\"Rouge: {score}\")\n"
   ]
  },
  {
   "cell_type": "code",
   "execution_count": null,
   "id": "3bc5428d-6648-48c8-98e8-14eee5d129b9",
   "metadata": {},
   "outputs": [],
   "source": []
  },
  {
   "cell_type": "code",
   "execution_count": null,
   "id": "198c0b52-c3f4-4570-8767-08156f9570fa",
   "metadata": {},
   "outputs": [],
   "source": []
  },
  {
   "cell_type": "code",
   "execution_count": null,
   "id": "4a049978-f19b-4fca-bc39-242e4fe6adbf",
   "metadata": {},
   "outputs": [],
   "source": []
  },
  {
   "cell_type": "code",
   "execution_count": null,
   "id": "6686f6ac-1f51-44ab-ad45-dd34462d3dff",
   "metadata": {},
   "outputs": [],
   "source": []
  },
  {
   "cell_type": "code",
   "execution_count": null,
   "id": "0f054bd1-f455-4d88-9ac6-a87bec33e1d7",
   "metadata": {},
   "outputs": [],
   "source": []
  }
 ],
 "metadata": {
  "kernelspec": {
   "display_name": "Python 3 (ipykernel)",
   "language": "python",
   "name": "python3"
  },
  "language_info": {
   "codemirror_mode": {
    "name": "ipython",
    "version": 3
   },
   "file_extension": ".py",
   "mimetype": "text/x-python",
   "name": "python",
   "nbconvert_exporter": "python",
   "pygments_lexer": "ipython3",
   "version": "3.11.3"
  }
 },
 "nbformat": 4,
 "nbformat_minor": 5
}
